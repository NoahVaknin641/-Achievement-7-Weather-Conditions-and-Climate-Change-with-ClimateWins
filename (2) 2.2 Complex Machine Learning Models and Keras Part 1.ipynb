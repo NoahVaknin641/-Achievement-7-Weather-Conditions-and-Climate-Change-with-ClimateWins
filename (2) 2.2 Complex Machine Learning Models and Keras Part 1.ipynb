{
 "cells": [
  {
   "cell_type": "markdown",
   "id": "892b0c28-76cc-4bdb-999c-1cf4e06b2680",
   "metadata": {},
   "source": [
    "# (1) 2.2: Complex Machine Learning Models and Keras Part 1"
   ]
  },
  {
   "cell_type": "code",
   "execution_count": 2,
   "id": "d9049c71-e0bf-4f91-b5d5-6afb297327c6",
   "metadata": {},
   "outputs": [],
   "source": [
    "import pandas as pd\n",
    "import numpy as np\n",
    "import seaborn as sns\n",
    "import os\n",
    "import operator\n",
    "import matplotlib.pyplot as plt\n",
    "import tensorflow as tf\n",
    "from tensorflow import keras\n",
    "from numpy import unique\n",
    "from numpy import reshape\n",
    "from keras.models import Sequential\n",
    "from keras.layers import Conv1D, Conv2D, Dense, BatchNormalization, Flatten, MaxPooling1D, Dropout\n",
    "from keras.layers import LSTM\n",
    "from keras.utils import to_categorical\n",
    "from sklearn.model_selection import train_test_split\n",
    "from sklearn.preprocessing import LabelEncoder\n",
    "\n",
    "import warnings\n",
    "warnings.filterwarnings(\"ignore\")"
   ]
  },
  {
   "cell_type": "code",
   "execution_count": 3,
   "id": "9dab8d00-37da-4e73-ad51-885b36a64a50",
   "metadata": {},
   "outputs": [],
   "source": [
    "pd.set_option('display.max_columns', None)\n",
    "pd.set_option('display.max_rows', None)"
   ]
  },
  {
   "cell_type": "code",
   "execution_count": 4,
   "id": "f707b6e8-c92b-4010-a85a-b07683bb35c3",
   "metadata": {},
   "outputs": [],
   "source": [
    "path = r'C:\\Users\\nvak6\\Machine Learning with Python'\n",
    "pleasant = pd.read_csv(os.path.join(path, 'Dataset-Answers-Weather_Prediction_Pleasant_Weather.csv'))\n",
    "prediction = pd.read_csv(os.path.join(path, 'Dataset-weather-prediction-dataset-processed.csv'))\n",
    "X = pd.read_csv(os.path.join(path, 'weather_cleaned.csv'), index_col=False)"
   ]
  },
  {
   "cell_type": "markdown",
   "id": "40e7e317-3bb7-4aea-b10c-9caad0da5380",
   "metadata": {},
   "source": [
    "## Data Wrangling"
   ]
  },
  {
   "cell_type": "code",
   "execution_count": 6,
   "id": "c06e096a-4d33-42a8-a08d-1f7b8728ff85",
   "metadata": {},
   "outputs": [],
   "source": [
    "# Drop DATE column from answers\n",
    "\n",
    "pleasant.drop(columns = 'DATE', inplace = True)"
   ]
  },
  {
   "cell_type": "code",
   "execution_count": 7,
   "id": "143a1e05-192d-4697-b9dd-58ddc6dc95b5",
   "metadata": {},
   "outputs": [
    {
     "data": {
      "text/plain": [
       "(22950, 170)"
      ]
     },
     "execution_count": 7,
     "metadata": {},
     "output_type": "execute_result"
    }
   ],
   "source": [
    "prediction.shape"
   ]
  },
  {
   "cell_type": "code",
   "execution_count": 8,
   "id": "f52431dd-e3a2-422f-b5eb-9bef6d78a005",
   "metadata": {},
   "outputs": [],
   "source": [
    "y = pleasant"
   ]
  },
  {
   "cell_type": "code",
   "execution_count": 9,
   "id": "5a4db0b1-a37e-452c-a45f-5bde593d21b4",
   "metadata": {},
   "outputs": [
    {
     "data": {
      "text/plain": [
       "(22950, 135)"
      ]
     },
     "execution_count": 9,
     "metadata": {},
     "output_type": "execute_result"
    }
   ],
   "source": [
    "X.shape"
   ]
  },
  {
   "cell_type": "code",
   "execution_count": 10,
   "id": "ce902950-fae2-4a9a-8313-3e2dfb6469fa",
   "metadata": {},
   "outputs": [
    {
     "data": {
      "text/plain": [
       "array([[ 7.    ,  0.85  ,  1.018 , ...,  8.5   ,  6.    , 10.9   ],\n",
       "       [ 6.    ,  0.84  ,  1.018 , ...,  8.9   ,  5.6   , 12.1   ],\n",
       "       [ 8.    ,  0.9   ,  1.018 , ..., 10.5   ,  8.1   , 12.9   ],\n",
       "       ...,\n",
       "       [ 4.    ,  0.76  ,  1.0227, ..., 10.7   ,  7.9   , 13.5   ],\n",
       "       [ 5.    ,  0.8   ,  1.0212, ..., 10.7   ,  7.9   , 13.5   ],\n",
       "       [ 5.    ,  0.84  ,  1.0193, ..., 10.7   ,  7.9   , 13.5   ]])"
      ]
     },
     "execution_count": 10,
     "metadata": {},
     "output_type": "execute_result"
    }
   ],
   "source": [
    "# Turn X and y into arrays\n",
    "X = np.array(X)\n",
    "y = np.array(y)\n",
    "X"
   ]
  },
  {
   "cell_type": "code",
   "execution_count": 11,
   "id": "c95ebb3e-49ff-40a7-aaec-e90d571ebe95",
   "metadata": {},
   "outputs": [],
   "source": [
    "X = X.reshape(-1,15,9)"
   ]
  },
  {
   "cell_type": "markdown",
   "id": "c03ab1a3-3947-49d0-869f-de83bf3fff5c",
   "metadata": {},
   "source": [
    "## Spliting the Data"
   ]
  },
  {
   "cell_type": "code",
   "execution_count": 13,
   "id": "a133b6bf-06fd-4a75-8bd1-1fca44d5c3fc",
   "metadata": {},
   "outputs": [],
   "source": [
    "# Split data into train and test sets\n",
    "X_train, X_test, y_train, y_test = train_test_split(X,y,random_state = 42)"
   ]
  },
  {
   "cell_type": "code",
   "execution_count": 14,
   "id": "999ece5b-8a4a-43a7-9ae2-3d8db8287810",
   "metadata": {},
   "outputs": [
    {
     "name": "stdout",
     "output_type": "stream",
     "text": [
      "(17212, 15, 9) (17212, 15)\n",
      "(5738, 15, 9) (5738, 15)\n"
     ]
    }
   ],
   "source": [
    "print(X_train.shape, y_train.shape)\n",
    "print(X_test.shape, y_test.shape)"
   ]
  },
  {
   "cell_type": "markdown",
   "id": "663c543e-0be8-4df3-9fc3-609349dd6400",
   "metadata": {},
   "source": [
    "### Keras Model"
   ]
  },
  {
   "cell_type": "code",
   "execution_count": 16,
   "id": "9509c833-f02f-4735-b097-60b8c94bb6e6",
   "metadata": {},
   "outputs": [],
   "source": [
    "epochs = 30\n",
    "batch_size = 16\n",
    "n_hidden = 64\n",
    "\n",
    "timesteps = len(X_train[0])\n",
    "input_dim = len(X_train[0][0])\n",
    "n_classes = len(y_train[0])\n",
    "\n",
    "model = Sequential()\n",
    "model.add(Conv1D(n_hidden, kernel_size=2, activation='relu', input_shape=(timesteps, input_dim)))\n",
    "model.add(MaxPooling1D())\n",
    "model.add(LSTM(n_hidden, input_shape=(timesteps, input_dim)))\n",
    "model.add(Dropout(0.5))\n",
    "model.add(Dense(n_classes, activation='tanh'))"
   ]
  },
  {
   "cell_type": "code",
   "execution_count": 17,
   "id": "f9d4a4b4-d685-4070-8e8b-302d4f15eae1",
   "metadata": {},
   "outputs": [
    {
     "data": {
      "text/html": [
       "<pre style=\"white-space:pre;overflow-x:auto;line-height:normal;font-family:Menlo,'DejaVu Sans Mono',consolas,'Courier New',monospace\"><span style=\"font-weight: bold\">Model: \"sequential\"</span>\n",
       "</pre>\n"
      ],
      "text/plain": [
       "\u001b[1mModel: \"sequential\"\u001b[0m\n"
      ]
     },
     "metadata": {},
     "output_type": "display_data"
    },
    {
     "data": {
      "text/html": [
       "<pre style=\"white-space:pre;overflow-x:auto;line-height:normal;font-family:Menlo,'DejaVu Sans Mono',consolas,'Courier New',monospace\">┏━━━━━━━━━━━━━━━━━━━━━━━━━━━━━━━━━┳━━━━━━━━━━━━━━━━━━━━━━━━┳━━━━━━━━━━━━━━━┓\n",
       "┃<span style=\"font-weight: bold\"> Layer (type)                    </span>┃<span style=\"font-weight: bold\"> Output Shape           </span>┃<span style=\"font-weight: bold\">       Param # </span>┃\n",
       "┡━━━━━━━━━━━━━━━━━━━━━━━━━━━━━━━━━╇━━━━━━━━━━━━━━━━━━━━━━━━╇━━━━━━━━━━━━━━━┩\n",
       "│ conv1d (<span style=\"color: #0087ff; text-decoration-color: #0087ff\">Conv1D</span>)                 │ (<span style=\"color: #00d7ff; text-decoration-color: #00d7ff\">None</span>, <span style=\"color: #00af00; text-decoration-color: #00af00\">14</span>, <span style=\"color: #00af00; text-decoration-color: #00af00\">64</span>)         │         <span style=\"color: #00af00; text-decoration-color: #00af00\">1,216</span> │\n",
       "├─────────────────────────────────┼────────────────────────┼───────────────┤\n",
       "│ max_pooling1d (<span style=\"color: #0087ff; text-decoration-color: #0087ff\">MaxPooling1D</span>)    │ (<span style=\"color: #00d7ff; text-decoration-color: #00d7ff\">None</span>, <span style=\"color: #00af00; text-decoration-color: #00af00\">7</span>, <span style=\"color: #00af00; text-decoration-color: #00af00\">64</span>)          │             <span style=\"color: #00af00; text-decoration-color: #00af00\">0</span> │\n",
       "├─────────────────────────────────┼────────────────────────┼───────────────┤\n",
       "│ lstm (<span style=\"color: #0087ff; text-decoration-color: #0087ff\">LSTM</span>)                     │ (<span style=\"color: #00d7ff; text-decoration-color: #00d7ff\">None</span>, <span style=\"color: #00af00; text-decoration-color: #00af00\">64</span>)             │        <span style=\"color: #00af00; text-decoration-color: #00af00\">33,024</span> │\n",
       "├─────────────────────────────────┼────────────────────────┼───────────────┤\n",
       "│ dropout (<span style=\"color: #0087ff; text-decoration-color: #0087ff\">Dropout</span>)               │ (<span style=\"color: #00d7ff; text-decoration-color: #00d7ff\">None</span>, <span style=\"color: #00af00; text-decoration-color: #00af00\">64</span>)             │             <span style=\"color: #00af00; text-decoration-color: #00af00\">0</span> │\n",
       "├─────────────────────────────────┼────────────────────────┼───────────────┤\n",
       "│ dense (<span style=\"color: #0087ff; text-decoration-color: #0087ff\">Dense</span>)                   │ (<span style=\"color: #00d7ff; text-decoration-color: #00d7ff\">None</span>, <span style=\"color: #00af00; text-decoration-color: #00af00\">15</span>)             │           <span style=\"color: #00af00; text-decoration-color: #00af00\">975</span> │\n",
       "└─────────────────────────────────┴────────────────────────┴───────────────┘\n",
       "</pre>\n"
      ],
      "text/plain": [
       "┏━━━━━━━━━━━━━━━━━━━━━━━━━━━━━━━━━┳━━━━━━━━━━━━━━━━━━━━━━━━┳━━━━━━━━━━━━━━━┓\n",
       "┃\u001b[1m \u001b[0m\u001b[1mLayer (type)                   \u001b[0m\u001b[1m \u001b[0m┃\u001b[1m \u001b[0m\u001b[1mOutput Shape          \u001b[0m\u001b[1m \u001b[0m┃\u001b[1m \u001b[0m\u001b[1m      Param #\u001b[0m\u001b[1m \u001b[0m┃\n",
       "┡━━━━━━━━━━━━━━━━━━━━━━━━━━━━━━━━━╇━━━━━━━━━━━━━━━━━━━━━━━━╇━━━━━━━━━━━━━━━┩\n",
       "│ conv1d (\u001b[38;5;33mConv1D\u001b[0m)                 │ (\u001b[38;5;45mNone\u001b[0m, \u001b[38;5;34m14\u001b[0m, \u001b[38;5;34m64\u001b[0m)         │         \u001b[38;5;34m1,216\u001b[0m │\n",
       "├─────────────────────────────────┼────────────────────────┼───────────────┤\n",
       "│ max_pooling1d (\u001b[38;5;33mMaxPooling1D\u001b[0m)    │ (\u001b[38;5;45mNone\u001b[0m, \u001b[38;5;34m7\u001b[0m, \u001b[38;5;34m64\u001b[0m)          │             \u001b[38;5;34m0\u001b[0m │\n",
       "├─────────────────────────────────┼────────────────────────┼───────────────┤\n",
       "│ lstm (\u001b[38;5;33mLSTM\u001b[0m)                     │ (\u001b[38;5;45mNone\u001b[0m, \u001b[38;5;34m64\u001b[0m)             │        \u001b[38;5;34m33,024\u001b[0m │\n",
       "├─────────────────────────────────┼────────────────────────┼───────────────┤\n",
       "│ dropout (\u001b[38;5;33mDropout\u001b[0m)               │ (\u001b[38;5;45mNone\u001b[0m, \u001b[38;5;34m64\u001b[0m)             │             \u001b[38;5;34m0\u001b[0m │\n",
       "├─────────────────────────────────┼────────────────────────┼───────────────┤\n",
       "│ dense (\u001b[38;5;33mDense\u001b[0m)                   │ (\u001b[38;5;45mNone\u001b[0m, \u001b[38;5;34m15\u001b[0m)             │           \u001b[38;5;34m975\u001b[0m │\n",
       "└─────────────────────────────────┴────────────────────────┴───────────────┘\n"
      ]
     },
     "metadata": {},
     "output_type": "display_data"
    },
    {
     "data": {
      "text/html": [
       "<pre style=\"white-space:pre;overflow-x:auto;line-height:normal;font-family:Menlo,'DejaVu Sans Mono',consolas,'Courier New',monospace\"><span style=\"font-weight: bold\"> Total params: </span><span style=\"color: #00af00; text-decoration-color: #00af00\">35,215</span> (137.56 KB)\n",
       "</pre>\n"
      ],
      "text/plain": [
       "\u001b[1m Total params: \u001b[0m\u001b[38;5;34m35,215\u001b[0m (137.56 KB)\n"
      ]
     },
     "metadata": {},
     "output_type": "display_data"
    },
    {
     "data": {
      "text/html": [
       "<pre style=\"white-space:pre;overflow-x:auto;line-height:normal;font-family:Menlo,'DejaVu Sans Mono',consolas,'Courier New',monospace\"><span style=\"font-weight: bold\"> Trainable params: </span><span style=\"color: #00af00; text-decoration-color: #00af00\">35,215</span> (137.56 KB)\n",
       "</pre>\n"
      ],
      "text/plain": [
       "\u001b[1m Trainable params: \u001b[0m\u001b[38;5;34m35,215\u001b[0m (137.56 KB)\n"
      ]
     },
     "metadata": {},
     "output_type": "display_data"
    },
    {
     "data": {
      "text/html": [
       "<pre style=\"white-space:pre;overflow-x:auto;line-height:normal;font-family:Menlo,'DejaVu Sans Mono',consolas,'Courier New',monospace\"><span style=\"font-weight: bold\"> Non-trainable params: </span><span style=\"color: #00af00; text-decoration-color: #00af00\">0</span> (0.00 B)\n",
       "</pre>\n"
      ],
      "text/plain": [
       "\u001b[1m Non-trainable params: \u001b[0m\u001b[38;5;34m0\u001b[0m (0.00 B)\n"
      ]
     },
     "metadata": {},
     "output_type": "display_data"
    }
   ],
   "source": [
    "model.summary()"
   ]
  },
  {
   "cell_type": "code",
   "execution_count": 18,
   "id": "5df74fce-7c69-4335-b323-25376fdba6e3",
   "metadata": {},
   "outputs": [],
   "source": [
    "model.compile(loss='categorical_crossentropy', optimizer='adam', metrics=['accuracy'])"
   ]
  },
  {
   "cell_type": "code",
   "execution_count": 19,
   "id": "a3f20031-1949-454e-98d5-872438c58857",
   "metadata": {},
   "outputs": [
    {
     "name": "stdout",
     "output_type": "stream",
     "text": [
      "Epoch 1/30\n",
      "1076/1076 - 14s - 13ms/step - accuracy: 0.0766 - loss: 24.7255\n",
      "Epoch 2/30\n",
      "1076/1076 - 10s - 9ms/step - accuracy: 0.0832 - loss: 24.6305\n",
      "Epoch 3/30\n",
      "1076/1076 - 10s - 9ms/step - accuracy: 0.0357 - loss: 24.4648\n",
      "Epoch 4/30\n",
      "1076/1076 - 10s - 9ms/step - accuracy: 0.0180 - loss: 24.3013\n",
      "Epoch 5/30\n",
      "1076/1076 - 10s - 10ms/step - accuracy: 0.0216 - loss: 24.8354\n",
      "Epoch 6/30\n",
      "1076/1076 - 12s - 11ms/step - accuracy: 0.0286 - loss: 24.6125\n",
      "Epoch 7/30\n",
      "1076/1076 - 12s - 12ms/step - accuracy: 0.0312 - loss: 24.7663\n",
      "Epoch 8/30\n",
      "1076/1076 - 10s - 9ms/step - accuracy: 0.0246 - loss: 24.7451\n",
      "Epoch 9/30\n",
      "1076/1076 - 10s - 9ms/step - accuracy: 0.0264 - loss: 24.6165\n",
      "Epoch 10/30\n",
      "1076/1076 - 10s - 9ms/step - accuracy: 0.0288 - loss: 25.0626\n",
      "Epoch 11/30\n",
      "1076/1076 - 10s - 9ms/step - accuracy: 0.0542 - loss: 24.6977\n",
      "Epoch 12/30\n",
      "1076/1076 - 10s - 9ms/step - accuracy: 0.0791 - loss: 24.4973\n",
      "Epoch 13/30\n",
      "1076/1076 - 10s - 9ms/step - accuracy: 0.0799 - loss: 24.4611\n",
      "Epoch 14/30\n",
      "1076/1076 - 10s - 9ms/step - accuracy: 0.1091 - loss: 23.8855\n",
      "Epoch 15/30\n",
      "1076/1076 - 11s - 10ms/step - accuracy: 0.0666 - loss: 24.4466\n",
      "Epoch 16/30\n",
      "1076/1076 - 10s - 9ms/step - accuracy: 0.0379 - loss: 24.5559\n",
      "Epoch 17/30\n",
      "1076/1076 - 10s - 9ms/step - accuracy: 0.0273 - loss: 24.6920\n",
      "Epoch 18/30\n",
      "1076/1076 - 10s - 9ms/step - accuracy: 0.0419 - loss: 24.4614\n",
      "Epoch 19/30\n",
      "1076/1076 - 10s - 9ms/step - accuracy: 0.0573 - loss: 24.3307\n",
      "Epoch 20/30\n",
      "1076/1076 - 9s - 9ms/step - accuracy: 0.0690 - loss: 23.9549\n",
      "Epoch 21/30\n",
      "1076/1076 - 9s - 9ms/step - accuracy: 0.0419 - loss: 24.1493\n",
      "Epoch 22/30\n",
      "1076/1076 - 10s - 9ms/step - accuracy: 0.0488 - loss: 24.4547\n",
      "Epoch 23/30\n",
      "1076/1076 - 10s - 9ms/step - accuracy: 0.0551 - loss: 24.2483\n",
      "Epoch 24/30\n",
      "1076/1076 - 9s - 9ms/step - accuracy: 0.0739 - loss: 24.2555\n",
      "Epoch 25/30\n",
      "1076/1076 - 11s - 10ms/step - accuracy: 0.0844 - loss: 24.5751\n",
      "Epoch 26/30\n",
      "1076/1076 - 10s - 10ms/step - accuracy: 0.0748 - loss: 24.6107\n",
      "Epoch 27/30\n",
      "1076/1076 - 10s - 9ms/step - accuracy: 0.0653 - loss: 24.4370\n",
      "Epoch 28/30\n",
      "1076/1076 - 11s - 10ms/step - accuracy: 0.0841 - loss: 24.2972\n",
      "Epoch 29/30\n",
      "1076/1076 - 10s - 9ms/step - accuracy: 0.0681 - loss: 24.3087\n",
      "Epoch 30/30\n",
      "1076/1076 - 10s - 9ms/step - accuracy: 0.1418 - loss: 24.6718\n"
     ]
    },
    {
     "data": {
      "text/plain": [
       "<keras.src.callbacks.history.History at 0x2c4000e68d0>"
      ]
     },
     "execution_count": 19,
     "metadata": {},
     "output_type": "execute_result"
    }
   ],
   "source": [
    "model.fit(X_train, y_train, batch_size=batch_size, epochs=epochs, verbose=2)"
   ]
  },
  {
   "cell_type": "markdown",
   "id": "af481a0c-5ee3-4c52-9afa-c448ae876b99",
   "metadata": {},
   "source": [
    "### Confusion Matrix"
   ]
  },
  {
   "cell_type": "code",
   "execution_count": 21,
   "id": "fc0f7196-2bfc-4daa-aa9a-b8a14f69e040",
   "metadata": {},
   "outputs": [],
   "source": [
    "stations = {\n",
    "0: 'BASEL',\n",
    "1: 'BELGRADE',\n",
    "2: 'BUDAPEST',\n",
    "3: 'DEBILT',\n",
    "4: 'DUSSELDORF',\n",
    "5: 'HEATHROW',\n",
    "6: 'KASSEL',\n",
    "7: 'LJUBLJANA',\n",
    "8: 'MAASTRICHT',\n",
    "9: 'MADRID',\n",
    "10: 'MUNCHENB',\n",
    "11: 'OSLO',\n",
    "12: 'SONNBLICK',\n",
    "13: 'STOCKHOLM',\n",
    "14: 'VALENTIA'\n",
    "\n",
    "}"
   ]
  },
  {
   "cell_type": "code",
   "execution_count": 22,
   "id": "17d72f5b-c49a-4fa6-8077-3eb7607a97b9",
   "metadata": {},
   "outputs": [],
   "source": [
    "def confusion_matrix(y_true, y_pred):\n",
    "    y_true = pd.Series([stations[y] for y in np.argmax(y_true, axis=1)])\n",
    "    y_pred = pd.Series([stations[y] for y in np.argmax(y_pred, axis=1)])\n",
    "\n",
    "    return pd.crosstab(y_true, y_pred, rownames=['True'], colnames=['Pred'])"
   ]
  },
  {
   "cell_type": "code",
   "execution_count": 23,
   "id": "c29d4cef-19a6-4f42-a2b4-f4386777aa5a",
   "metadata": {},
   "outputs": [
    {
     "name": "stdout",
     "output_type": "stream",
     "text": [
      "\u001b[1m180/180\u001b[0m \u001b[32m━━━━━━━━━━━━━━━━━━━━\u001b[0m\u001b[37m\u001b[0m \u001b[1m1s\u001b[0m 5ms/step\n",
      "Pred        BELGRADE  OSLO\n",
      "True                      \n",
      "BASEL            859  2823\n",
      "BELGRADE           9  1083\n",
      "BUDAPEST           2   212\n",
      "DEBILT             0    82\n",
      "DUSSELDORF         0    29\n",
      "HEATHROW           0    82\n",
      "KASSEL             0    11\n",
      "LJUBLJANA          0    61\n",
      "MAASTRICHT         0     9\n",
      "MADRID            30   428\n",
      "MUNCHENB           0     8\n",
      "OSLO               0     5\n",
      "STOCKHOLM          0     4\n",
      "VALENTIA           0     1\n"
     ]
    }
   ],
   "source": [
    "# Evaluate\n",
    "print(confusion_matrix(y_test, model.predict(X_test)))"
   ]
  },
  {
   "cell_type": "code",
   "execution_count": 24,
   "id": "6b77b853-7801-4587-9e5f-796ecac4676a",
   "metadata": {},
   "outputs": [],
   "source": [
    "epochs = 30\n",
    "batch_size = 16\n",
    "n_hidden = 4\n",
    "\n",
    "timesteps = len(X_train[0])\n",
    "input_dim = len(X_train[0][0])\n",
    "n_classes = len(y_train[0])\n",
    "\n",
    "model = Sequential()\n",
    "model.add(Conv1D(n_hidden, kernel_size=2, activation='relu', input_shape=(timesteps, input_dim)))\n",
    "model.add(Dense(16, activation='relu'))\n",
    "model.add(MaxPooling1D())\n",
    "model.add(Flatten())\n",
    "model.add(Dense(n_classes, activation='softmax'))"
   ]
  },
  {
   "cell_type": "code",
   "execution_count": 25,
   "id": "39f92a30-9acd-4216-9d3b-06022b91ff7e",
   "metadata": {},
   "outputs": [
    {
     "data": {
      "text/html": [
       "<pre style=\"white-space:pre;overflow-x:auto;line-height:normal;font-family:Menlo,'DejaVu Sans Mono',consolas,'Courier New',monospace\"><span style=\"font-weight: bold\">Model: \"sequential_1\"</span>\n",
       "</pre>\n"
      ],
      "text/plain": [
       "\u001b[1mModel: \"sequential_1\"\u001b[0m\n"
      ]
     },
     "metadata": {},
     "output_type": "display_data"
    },
    {
     "data": {
      "text/html": [
       "<pre style=\"white-space:pre;overflow-x:auto;line-height:normal;font-family:Menlo,'DejaVu Sans Mono',consolas,'Courier New',monospace\">┏━━━━━━━━━━━━━━━━━━━━━━━━━━━━━━━━━┳━━━━━━━━━━━━━━━━━━━━━━━━┳━━━━━━━━━━━━━━━┓\n",
       "┃<span style=\"font-weight: bold\"> Layer (type)                    </span>┃<span style=\"font-weight: bold\"> Output Shape           </span>┃<span style=\"font-weight: bold\">       Param # </span>┃\n",
       "┡━━━━━━━━━━━━━━━━━━━━━━━━━━━━━━━━━╇━━━━━━━━━━━━━━━━━━━━━━━━╇━━━━━━━━━━━━━━━┩\n",
       "│ conv1d_1 (<span style=\"color: #0087ff; text-decoration-color: #0087ff\">Conv1D</span>)               │ (<span style=\"color: #00d7ff; text-decoration-color: #00d7ff\">None</span>, <span style=\"color: #00af00; text-decoration-color: #00af00\">14</span>, <span style=\"color: #00af00; text-decoration-color: #00af00\">4</span>)          │            <span style=\"color: #00af00; text-decoration-color: #00af00\">76</span> │\n",
       "├─────────────────────────────────┼────────────────────────┼───────────────┤\n",
       "│ dense_1 (<span style=\"color: #0087ff; text-decoration-color: #0087ff\">Dense</span>)                 │ (<span style=\"color: #00d7ff; text-decoration-color: #00d7ff\">None</span>, <span style=\"color: #00af00; text-decoration-color: #00af00\">14</span>, <span style=\"color: #00af00; text-decoration-color: #00af00\">16</span>)         │            <span style=\"color: #00af00; text-decoration-color: #00af00\">80</span> │\n",
       "├─────────────────────────────────┼────────────────────────┼───────────────┤\n",
       "│ max_pooling1d_1 (<span style=\"color: #0087ff; text-decoration-color: #0087ff\">MaxPooling1D</span>)  │ (<span style=\"color: #00d7ff; text-decoration-color: #00d7ff\">None</span>, <span style=\"color: #00af00; text-decoration-color: #00af00\">7</span>, <span style=\"color: #00af00; text-decoration-color: #00af00\">16</span>)          │             <span style=\"color: #00af00; text-decoration-color: #00af00\">0</span> │\n",
       "├─────────────────────────────────┼────────────────────────┼───────────────┤\n",
       "│ flatten (<span style=\"color: #0087ff; text-decoration-color: #0087ff\">Flatten</span>)               │ (<span style=\"color: #00d7ff; text-decoration-color: #00d7ff\">None</span>, <span style=\"color: #00af00; text-decoration-color: #00af00\">112</span>)            │             <span style=\"color: #00af00; text-decoration-color: #00af00\">0</span> │\n",
       "├─────────────────────────────────┼────────────────────────┼───────────────┤\n",
       "│ dense_2 (<span style=\"color: #0087ff; text-decoration-color: #0087ff\">Dense</span>)                 │ (<span style=\"color: #00d7ff; text-decoration-color: #00d7ff\">None</span>, <span style=\"color: #00af00; text-decoration-color: #00af00\">15</span>)             │         <span style=\"color: #00af00; text-decoration-color: #00af00\">1,695</span> │\n",
       "└─────────────────────────────────┴────────────────────────┴───────────────┘\n",
       "</pre>\n"
      ],
      "text/plain": [
       "┏━━━━━━━━━━━━━━━━━━━━━━━━━━━━━━━━━┳━━━━━━━━━━━━━━━━━━━━━━━━┳━━━━━━━━━━━━━━━┓\n",
       "┃\u001b[1m \u001b[0m\u001b[1mLayer (type)                   \u001b[0m\u001b[1m \u001b[0m┃\u001b[1m \u001b[0m\u001b[1mOutput Shape          \u001b[0m\u001b[1m \u001b[0m┃\u001b[1m \u001b[0m\u001b[1m      Param #\u001b[0m\u001b[1m \u001b[0m┃\n",
       "┡━━━━━━━━━━━━━━━━━━━━━━━━━━━━━━━━━╇━━━━━━━━━━━━━━━━━━━━━━━━╇━━━━━━━━━━━━━━━┩\n",
       "│ conv1d_1 (\u001b[38;5;33mConv1D\u001b[0m)               │ (\u001b[38;5;45mNone\u001b[0m, \u001b[38;5;34m14\u001b[0m, \u001b[38;5;34m4\u001b[0m)          │            \u001b[38;5;34m76\u001b[0m │\n",
       "├─────────────────────────────────┼────────────────────────┼───────────────┤\n",
       "│ dense_1 (\u001b[38;5;33mDense\u001b[0m)                 │ (\u001b[38;5;45mNone\u001b[0m, \u001b[38;5;34m14\u001b[0m, \u001b[38;5;34m16\u001b[0m)         │            \u001b[38;5;34m80\u001b[0m │\n",
       "├─────────────────────────────────┼────────────────────────┼───────────────┤\n",
       "│ max_pooling1d_1 (\u001b[38;5;33mMaxPooling1D\u001b[0m)  │ (\u001b[38;5;45mNone\u001b[0m, \u001b[38;5;34m7\u001b[0m, \u001b[38;5;34m16\u001b[0m)          │             \u001b[38;5;34m0\u001b[0m │\n",
       "├─────────────────────────────────┼────────────────────────┼───────────────┤\n",
       "│ flatten (\u001b[38;5;33mFlatten\u001b[0m)               │ (\u001b[38;5;45mNone\u001b[0m, \u001b[38;5;34m112\u001b[0m)            │             \u001b[38;5;34m0\u001b[0m │\n",
       "├─────────────────────────────────┼────────────────────────┼───────────────┤\n",
       "│ dense_2 (\u001b[38;5;33mDense\u001b[0m)                 │ (\u001b[38;5;45mNone\u001b[0m, \u001b[38;5;34m15\u001b[0m)             │         \u001b[38;5;34m1,695\u001b[0m │\n",
       "└─────────────────────────────────┴────────────────────────┴───────────────┘\n"
      ]
     },
     "metadata": {},
     "output_type": "display_data"
    },
    {
     "data": {
      "text/html": [
       "<pre style=\"white-space:pre;overflow-x:auto;line-height:normal;font-family:Menlo,'DejaVu Sans Mono',consolas,'Courier New',monospace\"><span style=\"font-weight: bold\"> Total params: </span><span style=\"color: #00af00; text-decoration-color: #00af00\">1,851</span> (7.23 KB)\n",
       "</pre>\n"
      ],
      "text/plain": [
       "\u001b[1m Total params: \u001b[0m\u001b[38;5;34m1,851\u001b[0m (7.23 KB)\n"
      ]
     },
     "metadata": {},
     "output_type": "display_data"
    },
    {
     "data": {
      "text/html": [
       "<pre style=\"white-space:pre;overflow-x:auto;line-height:normal;font-family:Menlo,'DejaVu Sans Mono',consolas,'Courier New',monospace\"><span style=\"font-weight: bold\"> Trainable params: </span><span style=\"color: #00af00; text-decoration-color: #00af00\">1,851</span> (7.23 KB)\n",
       "</pre>\n"
      ],
      "text/plain": [
       "\u001b[1m Trainable params: \u001b[0m\u001b[38;5;34m1,851\u001b[0m (7.23 KB)\n"
      ]
     },
     "metadata": {},
     "output_type": "display_data"
    },
    {
     "data": {
      "text/html": [
       "<pre style=\"white-space:pre;overflow-x:auto;line-height:normal;font-family:Menlo,'DejaVu Sans Mono',consolas,'Courier New',monospace\"><span style=\"font-weight: bold\"> Non-trainable params: </span><span style=\"color: #00af00; text-decoration-color: #00af00\">0</span> (0.00 B)\n",
       "</pre>\n"
      ],
      "text/plain": [
       "\u001b[1m Non-trainable params: \u001b[0m\u001b[38;5;34m0\u001b[0m (0.00 B)\n"
      ]
     },
     "metadata": {},
     "output_type": "display_data"
    }
   ],
   "source": [
    "model.summary()"
   ]
  },
  {
   "cell_type": "code",
   "execution_count": 26,
   "id": "ab0ae4d9-d3fe-4a8e-8c31-23de9b375ada",
   "metadata": {},
   "outputs": [],
   "source": [
    "model.compile(loss='categorical_crossentropy', optimizer='adam', metrics=['accuracy'])"
   ]
  },
  {
   "cell_type": "code",
   "execution_count": 49,
   "id": "422c1177-d330-46c5-b996-da39c6518a1c",
   "metadata": {},
   "outputs": [
    {
     "name": "stdout",
     "output_type": "stream",
     "text": [
      "Epoch 1/30\n",
      "1076/1076 - 8s - 7ms/step - accuracy: 0.0935 - loss: 1238.2316\n",
      "Epoch 2/30\n",
      "1076/1076 - 5s - 5ms/step - accuracy: 0.1089 - loss: 11900.3135\n",
      "Epoch 3/30\n",
      "1076/1076 - 5s - 5ms/step - accuracy: 0.1014 - loss: 39451.3750\n",
      "Epoch 4/30\n",
      "1076/1076 - 5s - 5ms/step - accuracy: 0.1068 - loss: 80727.0391\n",
      "Epoch 5/30\n",
      "1076/1076 - 6s - 5ms/step - accuracy: 0.1093 - loss: 138150.3594\n",
      "Epoch 6/30\n",
      "1076/1076 - 6s - 5ms/step - accuracy: 0.1105 - loss: 207440.1875\n",
      "Epoch 7/30\n",
      "1076/1076 - 6s - 5ms/step - accuracy: 0.1100 - loss: 286286.0000\n",
      "Epoch 8/30\n",
      "1076/1076 - 6s - 5ms/step - accuracy: 0.1095 - loss: 386467.3438\n",
      "Epoch 9/30\n",
      "1076/1076 - 6s - 5ms/step - accuracy: 0.1096 - loss: 501100.3438\n",
      "Epoch 10/30\n",
      "1076/1076 - 5s - 5ms/step - accuracy: 0.1109 - loss: 628220.3125\n",
      "Epoch 11/30\n",
      "1076/1076 - 6s - 5ms/step - accuracy: 0.1070 - loss: 778888.0625\n",
      "Epoch 12/30\n",
      "1076/1076 - 6s - 5ms/step - accuracy: 0.1060 - loss: 950902.5625\n",
      "Epoch 13/30\n",
      "1076/1076 - 6s - 5ms/step - accuracy: 0.1122 - loss: 1133334.1250\n",
      "Epoch 14/30\n",
      "1076/1076 - 6s - 5ms/step - accuracy: 0.1085 - loss: 1325894.1250\n",
      "Epoch 15/30\n",
      "1076/1076 - 6s - 5ms/step - accuracy: 0.1118 - loss: 1571254.7500\n",
      "Epoch 16/30\n",
      "1076/1076 - 10s - 9ms/step - accuracy: 0.1092 - loss: 1832723.0000\n",
      "Epoch 17/30\n",
      "1076/1076 - 6s - 5ms/step - accuracy: 0.1089 - loss: 2111004.2500\n",
      "Epoch 18/30\n",
      "1076/1076 - 6s - 5ms/step - accuracy: 0.1119 - loss: 2424345.5000\n",
      "Epoch 19/30\n",
      "1076/1076 - 6s - 5ms/step - accuracy: 0.1128 - loss: 2750520.5000\n",
      "Epoch 20/30\n",
      "1076/1076 - 6s - 5ms/step - accuracy: 0.1118 - loss: 3094499.5000\n",
      "Epoch 21/30\n",
      "1076/1076 - 5s - 5ms/step - accuracy: 0.1153 - loss: 3482198.2500\n",
      "Epoch 22/30\n",
      "1076/1076 - 5s - 5ms/step - accuracy: 0.1119 - loss: 3892944.0000\n",
      "Epoch 23/30\n",
      "1076/1076 - 7s - 6ms/step - accuracy: 0.1123 - loss: 4296177.0000\n",
      "Epoch 24/30\n",
      "1076/1076 - 5s - 5ms/step - accuracy: 0.1093 - loss: 4830392.5000\n",
      "Epoch 25/30\n",
      "1076/1076 - 7s - 7ms/step - accuracy: 0.1122 - loss: 5269687.5000\n",
      "Epoch 26/30\n",
      "1076/1076 - 6s - 6ms/step - accuracy: 0.1132 - loss: 5844546.5000\n",
      "Epoch 27/30\n",
      "1076/1076 - 6s - 6ms/step - accuracy: 0.1131 - loss: 6396213.5000\n",
      "Epoch 28/30\n",
      "1076/1076 - 10s - 9ms/step - accuracy: 0.1099 - loss: 7040956.0000\n",
      "Epoch 29/30\n",
      "1076/1076 - 5s - 4ms/step - accuracy: 0.1109 - loss: 7564664.0000\n",
      "Epoch 30/30\n",
      "1076/1076 - 4s - 4ms/step - accuracy: 0.1113 - loss: 8337442.5000\n"
     ]
    },
    {
     "data": {
      "text/plain": [
       "<keras.src.callbacks.history.History at 0x2c403ba7c50>"
      ]
     },
     "execution_count": 49,
     "metadata": {},
     "output_type": "execute_result"
    }
   ],
   "source": [
    "model.fit(X_train, y_train, batch_size=batch_size, epochs=epochs, verbose=2)"
   ]
  },
  {
   "cell_type": "code",
   "execution_count": 51,
   "id": "f93d07d1-f33e-402e-8f63-71bdde7e2650",
   "metadata": {},
   "outputs": [],
   "source": [
    "def confusion_matrix(y_true, y_pred):\n",
    "    y_true = pd.Series([stations[y] for y in np.argmax(y_true, axis=1)])\n",
    "    y_pred = pd.Series([stations[y] for y in np.argmax(y_pred, axis=1)])\n",
    "\n",
    "    return pd.crosstab(y_true, y_pred, rownames=['True'], colnames=['Pred'])"
   ]
  },
  {
   "cell_type": "code",
   "execution_count": 53,
   "id": "f9a2bd8a-085d-445b-9c80-dbee0b391688",
   "metadata": {},
   "outputs": [
    {
     "name": "stdout",
     "output_type": "stream",
     "text": [
      "\u001b[1m180/180\u001b[0m \u001b[32m━━━━━━━━━━━━━━━━━━━━\u001b[0m\u001b[37m\u001b[0m \u001b[1m1s\u001b[0m 3ms/step\n",
      "Pred        BASEL  BELGRADE  LJUBLJANA  MADRID  MUNCHENB  OSLO\n",
      "True                                                          \n",
      "BASEL           5      3265          2       1         9   400\n",
      "BELGRADE        0      1092          0       0         0     0\n",
      "BUDAPEST        0       214          0       0         0     0\n",
      "DEBILT          0        82          0       0         0     0\n",
      "DUSSELDORF      0        29          0       0         0     0\n",
      "HEATHROW        0        82          0       0         0     0\n",
      "KASSEL          0        11          0       0         0     0\n",
      "LJUBLJANA       0        61          0       0         0     0\n",
      "MAASTRICHT      0         9          0       0         0     0\n",
      "MADRID          0       457          0       1         0     0\n",
      "MUNCHENB        0         8          0       0         0     0\n",
      "OSLO            0         5          0       0         0     0\n",
      "STOCKHOLM       0         4          0       0         0     0\n",
      "VALENTIA        0         1          0       0         0     0\n"
     ]
    }
   ],
   "source": [
    "# Evaluate\n",
    "print(confusion_matrix(y_test, model.predict(X_test)))"
   ]
  },
  {
   "cell_type": "code",
   "execution_count": 55,
   "id": "628af5af-6f58-4e55-98a5-ad2973ff676c",
   "metadata": {},
   "outputs": [],
   "source": [
    "epochs = 30\n",
    "batch_size = 16\n",
    "n_hidden = 128\n",
    "\n",
    "timesteps = len(X_train[0])\n",
    "input_dim = len(X_train[0][0])\n",
    "n_classes = len(y_train[0])\n",
    "\n",
    "model = Sequential()\n",
    "model.add(Conv1D(n_hidden, kernel_size=2, activation='relu', input_shape=(timesteps, input_dim)))\n",
    "model.add(Dense(16, activation='relu'))\n",
    "model.add(MaxPooling1D())\n",
    "model.add(Flatten())\n",
    "model.add(Dense(n_classes, activation='tanh'))"
   ]
  },
  {
   "cell_type": "code",
   "execution_count": 57,
   "id": "677397b7-6567-41d1-b0c9-9efffce6e79b",
   "metadata": {},
   "outputs": [
    {
     "data": {
      "text/html": [
       "<pre style=\"white-space:pre;overflow-x:auto;line-height:normal;font-family:Menlo,'DejaVu Sans Mono',consolas,'Courier New',monospace\"><span style=\"font-weight: bold\">Model: \"sequential_2\"</span>\n",
       "</pre>\n"
      ],
      "text/plain": [
       "\u001b[1mModel: \"sequential_2\"\u001b[0m\n"
      ]
     },
     "metadata": {},
     "output_type": "display_data"
    },
    {
     "data": {
      "text/html": [
       "<pre style=\"white-space:pre;overflow-x:auto;line-height:normal;font-family:Menlo,'DejaVu Sans Mono',consolas,'Courier New',monospace\">┏━━━━━━━━━━━━━━━━━━━━━━━━━━━━━━━━━┳━━━━━━━━━━━━━━━━━━━━━━━━┳━━━━━━━━━━━━━━━┓\n",
       "┃<span style=\"font-weight: bold\"> Layer (type)                    </span>┃<span style=\"font-weight: bold\"> Output Shape           </span>┃<span style=\"font-weight: bold\">       Param # </span>┃\n",
       "┡━━━━━━━━━━━━━━━━━━━━━━━━━━━━━━━━━╇━━━━━━━━━━━━━━━━━━━━━━━━╇━━━━━━━━━━━━━━━┩\n",
       "│ conv1d_2 (<span style=\"color: #0087ff; text-decoration-color: #0087ff\">Conv1D</span>)               │ (<span style=\"color: #00d7ff; text-decoration-color: #00d7ff\">None</span>, <span style=\"color: #00af00; text-decoration-color: #00af00\">14</span>, <span style=\"color: #00af00; text-decoration-color: #00af00\">128</span>)        │         <span style=\"color: #00af00; text-decoration-color: #00af00\">2,432</span> │\n",
       "├─────────────────────────────────┼────────────────────────┼───────────────┤\n",
       "│ dense_3 (<span style=\"color: #0087ff; text-decoration-color: #0087ff\">Dense</span>)                 │ (<span style=\"color: #00d7ff; text-decoration-color: #00d7ff\">None</span>, <span style=\"color: #00af00; text-decoration-color: #00af00\">14</span>, <span style=\"color: #00af00; text-decoration-color: #00af00\">16</span>)         │         <span style=\"color: #00af00; text-decoration-color: #00af00\">2,064</span> │\n",
       "├─────────────────────────────────┼────────────────────────┼───────────────┤\n",
       "│ max_pooling1d_2 (<span style=\"color: #0087ff; text-decoration-color: #0087ff\">MaxPooling1D</span>)  │ (<span style=\"color: #00d7ff; text-decoration-color: #00d7ff\">None</span>, <span style=\"color: #00af00; text-decoration-color: #00af00\">7</span>, <span style=\"color: #00af00; text-decoration-color: #00af00\">16</span>)          │             <span style=\"color: #00af00; text-decoration-color: #00af00\">0</span> │\n",
       "├─────────────────────────────────┼────────────────────────┼───────────────┤\n",
       "│ flatten_1 (<span style=\"color: #0087ff; text-decoration-color: #0087ff\">Flatten</span>)             │ (<span style=\"color: #00d7ff; text-decoration-color: #00d7ff\">None</span>, <span style=\"color: #00af00; text-decoration-color: #00af00\">112</span>)            │             <span style=\"color: #00af00; text-decoration-color: #00af00\">0</span> │\n",
       "├─────────────────────────────────┼────────────────────────┼───────────────┤\n",
       "│ dense_4 (<span style=\"color: #0087ff; text-decoration-color: #0087ff\">Dense</span>)                 │ (<span style=\"color: #00d7ff; text-decoration-color: #00d7ff\">None</span>, <span style=\"color: #00af00; text-decoration-color: #00af00\">15</span>)             │         <span style=\"color: #00af00; text-decoration-color: #00af00\">1,695</span> │\n",
       "└─────────────────────────────────┴────────────────────────┴───────────────┘\n",
       "</pre>\n"
      ],
      "text/plain": [
       "┏━━━━━━━━━━━━━━━━━━━━━━━━━━━━━━━━━┳━━━━━━━━━━━━━━━━━━━━━━━━┳━━━━━━━━━━━━━━━┓\n",
       "┃\u001b[1m \u001b[0m\u001b[1mLayer (type)                   \u001b[0m\u001b[1m \u001b[0m┃\u001b[1m \u001b[0m\u001b[1mOutput Shape          \u001b[0m\u001b[1m \u001b[0m┃\u001b[1m \u001b[0m\u001b[1m      Param #\u001b[0m\u001b[1m \u001b[0m┃\n",
       "┡━━━━━━━━━━━━━━━━━━━━━━━━━━━━━━━━━╇━━━━━━━━━━━━━━━━━━━━━━━━╇━━━━━━━━━━━━━━━┩\n",
       "│ conv1d_2 (\u001b[38;5;33mConv1D\u001b[0m)               │ (\u001b[38;5;45mNone\u001b[0m, \u001b[38;5;34m14\u001b[0m, \u001b[38;5;34m128\u001b[0m)        │         \u001b[38;5;34m2,432\u001b[0m │\n",
       "├─────────────────────────────────┼────────────────────────┼───────────────┤\n",
       "│ dense_3 (\u001b[38;5;33mDense\u001b[0m)                 │ (\u001b[38;5;45mNone\u001b[0m, \u001b[38;5;34m14\u001b[0m, \u001b[38;5;34m16\u001b[0m)         │         \u001b[38;5;34m2,064\u001b[0m │\n",
       "├─────────────────────────────────┼────────────────────────┼───────────────┤\n",
       "│ max_pooling1d_2 (\u001b[38;5;33mMaxPooling1D\u001b[0m)  │ (\u001b[38;5;45mNone\u001b[0m, \u001b[38;5;34m7\u001b[0m, \u001b[38;5;34m16\u001b[0m)          │             \u001b[38;5;34m0\u001b[0m │\n",
       "├─────────────────────────────────┼────────────────────────┼───────────────┤\n",
       "│ flatten_1 (\u001b[38;5;33mFlatten\u001b[0m)             │ (\u001b[38;5;45mNone\u001b[0m, \u001b[38;5;34m112\u001b[0m)            │             \u001b[38;5;34m0\u001b[0m │\n",
       "├─────────────────────────────────┼────────────────────────┼───────────────┤\n",
       "│ dense_4 (\u001b[38;5;33mDense\u001b[0m)                 │ (\u001b[38;5;45mNone\u001b[0m, \u001b[38;5;34m15\u001b[0m)             │         \u001b[38;5;34m1,695\u001b[0m │\n",
       "└─────────────────────────────────┴────────────────────────┴───────────────┘\n"
      ]
     },
     "metadata": {},
     "output_type": "display_data"
    },
    {
     "data": {
      "text/html": [
       "<pre style=\"white-space:pre;overflow-x:auto;line-height:normal;font-family:Menlo,'DejaVu Sans Mono',consolas,'Courier New',monospace\"><span style=\"font-weight: bold\"> Total params: </span><span style=\"color: #00af00; text-decoration-color: #00af00\">6,191</span> (24.18 KB)\n",
       "</pre>\n"
      ],
      "text/plain": [
       "\u001b[1m Total params: \u001b[0m\u001b[38;5;34m6,191\u001b[0m (24.18 KB)\n"
      ]
     },
     "metadata": {},
     "output_type": "display_data"
    },
    {
     "data": {
      "text/html": [
       "<pre style=\"white-space:pre;overflow-x:auto;line-height:normal;font-family:Menlo,'DejaVu Sans Mono',consolas,'Courier New',monospace\"><span style=\"font-weight: bold\"> Trainable params: </span><span style=\"color: #00af00; text-decoration-color: #00af00\">6,191</span> (24.18 KB)\n",
       "</pre>\n"
      ],
      "text/plain": [
       "\u001b[1m Trainable params: \u001b[0m\u001b[38;5;34m6,191\u001b[0m (24.18 KB)\n"
      ]
     },
     "metadata": {},
     "output_type": "display_data"
    },
    {
     "data": {
      "text/html": [
       "<pre style=\"white-space:pre;overflow-x:auto;line-height:normal;font-family:Menlo,'DejaVu Sans Mono',consolas,'Courier New',monospace\"><span style=\"font-weight: bold\"> Non-trainable params: </span><span style=\"color: #00af00; text-decoration-color: #00af00\">0</span> (0.00 B)\n",
       "</pre>\n"
      ],
      "text/plain": [
       "\u001b[1m Non-trainable params: \u001b[0m\u001b[38;5;34m0\u001b[0m (0.00 B)\n"
      ]
     },
     "metadata": {},
     "output_type": "display_data"
    }
   ],
   "source": [
    "model.summary()"
   ]
  },
  {
   "cell_type": "code",
   "execution_count": 59,
   "id": "f036b606-7c1c-46b2-8692-5a427a9597cc",
   "metadata": {},
   "outputs": [],
   "source": [
    "model.compile(loss='categorical_crossentropy', optimizer='adam', metrics=['accuracy'])"
   ]
  },
  {
   "cell_type": "code",
   "execution_count": 61,
   "id": "f4e0a2aa-292a-4cac-b1e7-c52294bf8cb3",
   "metadata": {},
   "outputs": [
    {
     "name": "stdout",
     "output_type": "stream",
     "text": [
      "Epoch 1/30\n",
      "1076/1076 - 7s - 6ms/step - accuracy: 0.0235 - loss: 28.0096\n",
      "Epoch 2/30\n",
      "1076/1076 - 6s - 5ms/step - accuracy: 0.0210 - loss: 28.1027\n",
      "Epoch 3/30\n",
      "1076/1076 - 5s - 4ms/step - accuracy: 0.0221 - loss: 28.1008\n",
      "Epoch 4/30\n",
      "1076/1076 - 5s - 4ms/step - accuracy: 0.0222 - loss: 28.1008\n",
      "Epoch 5/30\n",
      "1076/1076 - 5s - 5ms/step - accuracy: 0.0222 - loss: 28.1008\n",
      "Epoch 6/30\n",
      "1076/1076 - 5s - 4ms/step - accuracy: 0.0222 - loss: 28.1008\n",
      "Epoch 7/30\n",
      "1076/1076 - 5s - 5ms/step - accuracy: 0.0222 - loss: 28.1008\n",
      "Epoch 8/30\n",
      "1076/1076 - 5s - 5ms/step - accuracy: 0.0222 - loss: 28.1008\n",
      "Epoch 9/30\n",
      "1076/1076 - 6s - 6ms/step - accuracy: 0.0222 - loss: 28.1008\n",
      "Epoch 10/30\n",
      "1076/1076 - 6s - 6ms/step - accuracy: 0.0222 - loss: 28.1008\n",
      "Epoch 11/30\n",
      "1076/1076 - 6s - 5ms/step - accuracy: 0.0222 - loss: 28.1008\n",
      "Epoch 12/30\n",
      "1076/1076 - 5s - 5ms/step - accuracy: 0.0222 - loss: 28.1008\n",
      "Epoch 13/30\n",
      "1076/1076 - 5s - 4ms/step - accuracy: 0.0222 - loss: 28.1008\n",
      "Epoch 14/30\n",
      "1076/1076 - 5s - 5ms/step - accuracy: 0.0222 - loss: 28.1008\n",
      "Epoch 15/30\n",
      "1076/1076 - 5s - 4ms/step - accuracy: 0.0222 - loss: 28.1009\n",
      "Epoch 16/30\n",
      "1076/1076 - 5s - 4ms/step - accuracy: 0.0222 - loss: 28.1008\n",
      "Epoch 17/30\n",
      "1076/1076 - 5s - 5ms/step - accuracy: 0.0222 - loss: 28.1008\n",
      "Epoch 18/30\n",
      "1076/1076 - 5s - 5ms/step - accuracy: 0.0222 - loss: 28.1008\n",
      "Epoch 19/30\n",
      "1076/1076 - 5s - 4ms/step - accuracy: 0.0222 - loss: 28.1008\n",
      "Epoch 20/30\n",
      "1076/1076 - 5s - 5ms/step - accuracy: 0.0222 - loss: 28.1008\n",
      "Epoch 21/30\n",
      "1076/1076 - 5s - 4ms/step - accuracy: 0.0222 - loss: 28.1008\n",
      "Epoch 22/30\n",
      "1076/1076 - 5s - 4ms/step - accuracy: 0.0222 - loss: 28.1008\n",
      "Epoch 23/30\n",
      "1076/1076 - 5s - 4ms/step - accuracy: 0.0222 - loss: 28.1008\n",
      "Epoch 24/30\n",
      "1076/1076 - 5s - 5ms/step - accuracy: 0.0222 - loss: 28.1008\n",
      "Epoch 25/30\n",
      "1076/1076 - 6s - 5ms/step - accuracy: 0.0222 - loss: 28.1008\n",
      "Epoch 26/30\n",
      "1076/1076 - 5s - 5ms/step - accuracy: 0.0222 - loss: 28.1008\n",
      "Epoch 27/30\n",
      "1076/1076 - 5s - 5ms/step - accuracy: 0.0222 - loss: 28.1008\n",
      "Epoch 28/30\n",
      "1076/1076 - 5s - 4ms/step - accuracy: 0.0222 - loss: 28.1008\n",
      "Epoch 29/30\n",
      "1076/1076 - 5s - 4ms/step - accuracy: 0.0222 - loss: 28.1008\n",
      "Epoch 30/30\n",
      "1076/1076 - 5s - 4ms/step - accuracy: 0.0222 - loss: 28.1008\n"
     ]
    },
    {
     "data": {
      "text/plain": [
       "<keras.src.callbacks.history.History at 0x2c40401bfb0>"
      ]
     },
     "execution_count": 61,
     "metadata": {},
     "output_type": "execute_result"
    }
   ],
   "source": [
    "model.fit(X_train, y_train, batch_size=batch_size, epochs=epochs, verbose=2)"
   ]
  },
  {
   "cell_type": "code",
   "execution_count": 63,
   "id": "7e50c9d6-1d55-47b6-ae3e-23ea68510de9",
   "metadata": {},
   "outputs": [],
   "source": [
    "def confusion_matrix(y_true, y_pred):\n",
    "    y_true = pd.Series([stations[y] for y in np.argmax(y_true, axis=1)])\n",
    "    y_pred = pd.Series([stations[y] for y in np.argmax(y_pred, axis=1)])\n",
    "\n",
    "    return pd.crosstab(y_true, y_pred, rownames=['True'], colnames=['Pred'])"
   ]
  },
  {
   "cell_type": "code",
   "execution_count": 65,
   "id": "c574e0b0-b624-4e89-a4bc-c6c90ecd7893",
   "metadata": {},
   "outputs": [
    {
     "name": "stdout",
     "output_type": "stream",
     "text": [
      "\u001b[1m180/180\u001b[0m \u001b[32m━━━━━━━━━━━━━━━━━━━━\u001b[0m\u001b[37m\u001b[0m \u001b[1m1s\u001b[0m 3ms/step\n",
      "Pred        BELGRADE  KASSEL  SONNBLICK\n",
      "True                                   \n",
      "BASEL           1868    1725         89\n",
      "BELGRADE         111     943         38\n",
      "BUDAPEST          15     197          2\n",
      "DEBILT            14      68          0\n",
      "DUSSELDORF         1      28          0\n",
      "HEATHROW           4      78          0\n",
      "KASSEL             1      10          0\n",
      "LJUBLJANA         13      45          3\n",
      "MAASTRICHT         1       8          0\n",
      "MADRID           160     296          2\n",
      "MUNCHENB           0       8          0\n",
      "OSLO               0       5          0\n",
      "STOCKHOLM          0       4          0\n",
      "VALENTIA           0       1          0\n"
     ]
    }
   ],
   "source": [
    "# Evaluate\n",
    "print(confusion_matrix(y_test, model.predict(X_test)))"
   ]
  },
  {
   "cell_type": "code",
   "execution_count": 67,
   "id": "4ff2eecc-58fc-484d-82d8-4540e997d8a9",
   "metadata": {},
   "outputs": [],
   "source": [
    "epochs = 30\n",
    "batch_size = 16\n",
    "n_hidden = 64\n",
    "\n",
    "timesteps = len(X_train[0])\n",
    "input_dim = len(X_train[0][0])\n",
    "n_classes = len(y_train[0])\n",
    "\n",
    "model = Sequential()\n",
    "model.add(Conv1D(n_hidden, kernel_size=2, activation='relu', input_shape=(timesteps, input_dim)))\n",
    "model.add(Dense(16, activation='relu'))\n",
    "model.add(MaxPooling1D())\n",
    "model.add(Flatten())\n",
    "model.add(Dense(n_classes, activation='tanh'))"
   ]
  },
  {
   "cell_type": "code",
   "execution_count": 69,
   "id": "e2552b6d-dec3-4f53-b70c-c6b076cb3419",
   "metadata": {},
   "outputs": [
    {
     "data": {
      "text/html": [
       "<pre style=\"white-space:pre;overflow-x:auto;line-height:normal;font-family:Menlo,'DejaVu Sans Mono',consolas,'Courier New',monospace\"><span style=\"font-weight: bold\">Model: \"sequential_3\"</span>\n",
       "</pre>\n"
      ],
      "text/plain": [
       "\u001b[1mModel: \"sequential_3\"\u001b[0m\n"
      ]
     },
     "metadata": {},
     "output_type": "display_data"
    },
    {
     "data": {
      "text/html": [
       "<pre style=\"white-space:pre;overflow-x:auto;line-height:normal;font-family:Menlo,'DejaVu Sans Mono',consolas,'Courier New',monospace\">┏━━━━━━━━━━━━━━━━━━━━━━━━━━━━━━━━━┳━━━━━━━━━━━━━━━━━━━━━━━━┳━━━━━━━━━━━━━━━┓\n",
       "┃<span style=\"font-weight: bold\"> Layer (type)                    </span>┃<span style=\"font-weight: bold\"> Output Shape           </span>┃<span style=\"font-weight: bold\">       Param # </span>┃\n",
       "┡━━━━━━━━━━━━━━━━━━━━━━━━━━━━━━━━━╇━━━━━━━━━━━━━━━━━━━━━━━━╇━━━━━━━━━━━━━━━┩\n",
       "│ conv1d_3 (<span style=\"color: #0087ff; text-decoration-color: #0087ff\">Conv1D</span>)               │ (<span style=\"color: #00d7ff; text-decoration-color: #00d7ff\">None</span>, <span style=\"color: #00af00; text-decoration-color: #00af00\">14</span>, <span style=\"color: #00af00; text-decoration-color: #00af00\">64</span>)         │         <span style=\"color: #00af00; text-decoration-color: #00af00\">1,216</span> │\n",
       "├─────────────────────────────────┼────────────────────────┼───────────────┤\n",
       "│ dense_5 (<span style=\"color: #0087ff; text-decoration-color: #0087ff\">Dense</span>)                 │ (<span style=\"color: #00d7ff; text-decoration-color: #00d7ff\">None</span>, <span style=\"color: #00af00; text-decoration-color: #00af00\">14</span>, <span style=\"color: #00af00; text-decoration-color: #00af00\">16</span>)         │         <span style=\"color: #00af00; text-decoration-color: #00af00\">1,040</span> │\n",
       "├─────────────────────────────────┼────────────────────────┼───────────────┤\n",
       "│ max_pooling1d_3 (<span style=\"color: #0087ff; text-decoration-color: #0087ff\">MaxPooling1D</span>)  │ (<span style=\"color: #00d7ff; text-decoration-color: #00d7ff\">None</span>, <span style=\"color: #00af00; text-decoration-color: #00af00\">7</span>, <span style=\"color: #00af00; text-decoration-color: #00af00\">16</span>)          │             <span style=\"color: #00af00; text-decoration-color: #00af00\">0</span> │\n",
       "├─────────────────────────────────┼────────────────────────┼───────────────┤\n",
       "│ flatten_2 (<span style=\"color: #0087ff; text-decoration-color: #0087ff\">Flatten</span>)             │ (<span style=\"color: #00d7ff; text-decoration-color: #00d7ff\">None</span>, <span style=\"color: #00af00; text-decoration-color: #00af00\">112</span>)            │             <span style=\"color: #00af00; text-decoration-color: #00af00\">0</span> │\n",
       "├─────────────────────────────────┼────────────────────────┼───────────────┤\n",
       "│ dense_6 (<span style=\"color: #0087ff; text-decoration-color: #0087ff\">Dense</span>)                 │ (<span style=\"color: #00d7ff; text-decoration-color: #00d7ff\">None</span>, <span style=\"color: #00af00; text-decoration-color: #00af00\">15</span>)             │         <span style=\"color: #00af00; text-decoration-color: #00af00\">1,695</span> │\n",
       "└─────────────────────────────────┴────────────────────────┴───────────────┘\n",
       "</pre>\n"
      ],
      "text/plain": [
       "┏━━━━━━━━━━━━━━━━━━━━━━━━━━━━━━━━━┳━━━━━━━━━━━━━━━━━━━━━━━━┳━━━━━━━━━━━━━━━┓\n",
       "┃\u001b[1m \u001b[0m\u001b[1mLayer (type)                   \u001b[0m\u001b[1m \u001b[0m┃\u001b[1m \u001b[0m\u001b[1mOutput Shape          \u001b[0m\u001b[1m \u001b[0m┃\u001b[1m \u001b[0m\u001b[1m      Param #\u001b[0m\u001b[1m \u001b[0m┃\n",
       "┡━━━━━━━━━━━━━━━━━━━━━━━━━━━━━━━━━╇━━━━━━━━━━━━━━━━━━━━━━━━╇━━━━━━━━━━━━━━━┩\n",
       "│ conv1d_3 (\u001b[38;5;33mConv1D\u001b[0m)               │ (\u001b[38;5;45mNone\u001b[0m, \u001b[38;5;34m14\u001b[0m, \u001b[38;5;34m64\u001b[0m)         │         \u001b[38;5;34m1,216\u001b[0m │\n",
       "├─────────────────────────────────┼────────────────────────┼───────────────┤\n",
       "│ dense_5 (\u001b[38;5;33mDense\u001b[0m)                 │ (\u001b[38;5;45mNone\u001b[0m, \u001b[38;5;34m14\u001b[0m, \u001b[38;5;34m16\u001b[0m)         │         \u001b[38;5;34m1,040\u001b[0m │\n",
       "├─────────────────────────────────┼────────────────────────┼───────────────┤\n",
       "│ max_pooling1d_3 (\u001b[38;5;33mMaxPooling1D\u001b[0m)  │ (\u001b[38;5;45mNone\u001b[0m, \u001b[38;5;34m7\u001b[0m, \u001b[38;5;34m16\u001b[0m)          │             \u001b[38;5;34m0\u001b[0m │\n",
       "├─────────────────────────────────┼────────────────────────┼───────────────┤\n",
       "│ flatten_2 (\u001b[38;5;33mFlatten\u001b[0m)             │ (\u001b[38;5;45mNone\u001b[0m, \u001b[38;5;34m112\u001b[0m)            │             \u001b[38;5;34m0\u001b[0m │\n",
       "├─────────────────────────────────┼────────────────────────┼───────────────┤\n",
       "│ dense_6 (\u001b[38;5;33mDense\u001b[0m)                 │ (\u001b[38;5;45mNone\u001b[0m, \u001b[38;5;34m15\u001b[0m)             │         \u001b[38;5;34m1,695\u001b[0m │\n",
       "└─────────────────────────────────┴────────────────────────┴───────────────┘\n"
      ]
     },
     "metadata": {},
     "output_type": "display_data"
    },
    {
     "data": {
      "text/html": [
       "<pre style=\"white-space:pre;overflow-x:auto;line-height:normal;font-family:Menlo,'DejaVu Sans Mono',consolas,'Courier New',monospace\"><span style=\"font-weight: bold\"> Total params: </span><span style=\"color: #00af00; text-decoration-color: #00af00\">3,951</span> (15.43 KB)\n",
       "</pre>\n"
      ],
      "text/plain": [
       "\u001b[1m Total params: \u001b[0m\u001b[38;5;34m3,951\u001b[0m (15.43 KB)\n"
      ]
     },
     "metadata": {},
     "output_type": "display_data"
    },
    {
     "data": {
      "text/html": [
       "<pre style=\"white-space:pre;overflow-x:auto;line-height:normal;font-family:Menlo,'DejaVu Sans Mono',consolas,'Courier New',monospace\"><span style=\"font-weight: bold\"> Trainable params: </span><span style=\"color: #00af00; text-decoration-color: #00af00\">3,951</span> (15.43 KB)\n",
       "</pre>\n"
      ],
      "text/plain": [
       "\u001b[1m Trainable params: \u001b[0m\u001b[38;5;34m3,951\u001b[0m (15.43 KB)\n"
      ]
     },
     "metadata": {},
     "output_type": "display_data"
    },
    {
     "data": {
      "text/html": [
       "<pre style=\"white-space:pre;overflow-x:auto;line-height:normal;font-family:Menlo,'DejaVu Sans Mono',consolas,'Courier New',monospace\"><span style=\"font-weight: bold\"> Non-trainable params: </span><span style=\"color: #00af00; text-decoration-color: #00af00\">0</span> (0.00 B)\n",
       "</pre>\n"
      ],
      "text/plain": [
       "\u001b[1m Non-trainable params: \u001b[0m\u001b[38;5;34m0\u001b[0m (0.00 B)\n"
      ]
     },
     "metadata": {},
     "output_type": "display_data"
    }
   ],
   "source": [
    "model.summary()"
   ]
  },
  {
   "cell_type": "code",
   "execution_count": 71,
   "id": "15c6d5dd-e38d-4874-8fc5-ca6bbed9d372",
   "metadata": {},
   "outputs": [],
   "source": [
    "model.compile(loss='categorical_crossentropy', optimizer='adam', metrics=['accuracy'])"
   ]
  },
  {
   "cell_type": "code",
   "execution_count": 73,
   "id": "893a8050-fb65-48ac-94f5-edfab7c18bc2",
   "metadata": {},
   "outputs": [
    {
     "name": "stdout",
     "output_type": "stream",
     "text": [
      "Epoch 1/30\n",
      "1076/1076 - 6s - 6ms/step - accuracy: 0.0358 - loss: 24.3273\n",
      "Epoch 2/30\n",
      "1076/1076 - 5s - 5ms/step - accuracy: 0.0378 - loss: 24.8626\n",
      "Epoch 3/30\n",
      "1076/1076 - 5s - 5ms/step - accuracy: 0.0381 - loss: 24.8645\n",
      "Epoch 4/30\n",
      "1076/1076 - 5s - 4ms/step - accuracy: 0.0382 - loss: 24.8645\n",
      "Epoch 5/30\n",
      "1076/1076 - 5s - 4ms/step - accuracy: 0.0383 - loss: 24.8635\n",
      "Epoch 6/30\n",
      "1076/1076 - 5s - 5ms/step - accuracy: 0.0388 - loss: 24.8654\n",
      "Epoch 7/30\n",
      "1076/1076 - 5s - 5ms/step - accuracy: 0.0393 - loss: 24.8598\n",
      "Epoch 8/30\n",
      "1076/1076 - 5s - 5ms/step - accuracy: 0.0394 - loss: 24.8579\n",
      "Epoch 9/30\n",
      "1076/1076 - 5s - 4ms/step - accuracy: 0.0401 - loss: 24.8532\n",
      "Epoch 10/30\n",
      "1076/1076 - 5s - 5ms/step - accuracy: 0.0403 - loss: 24.8570\n",
      "Epoch 11/30\n",
      "1076/1076 - 5s - 4ms/step - accuracy: 0.0408 - loss: 24.8560\n",
      "Epoch 12/30\n",
      "1076/1076 - 5s - 5ms/step - accuracy: 0.0418 - loss: 24.8598\n",
      "Epoch 13/30\n",
      "1076/1076 - 5s - 5ms/step - accuracy: 0.0432 - loss: 24.8616\n",
      "Epoch 14/30\n",
      "1076/1076 - 5s - 4ms/step - accuracy: 0.0439 - loss: 24.8607\n",
      "Epoch 15/30\n",
      "1076/1076 - 5s - 5ms/step - accuracy: 0.0439 - loss: 24.8607\n",
      "Epoch 16/30\n",
      "1076/1076 - 5s - 5ms/step - accuracy: 0.0439 - loss: 24.8607\n",
      "Epoch 17/30\n",
      "1076/1076 - 5s - 4ms/step - accuracy: 0.0439 - loss: 24.8607\n",
      "Epoch 18/30\n",
      "1076/1076 - 5s - 5ms/step - accuracy: 0.0439 - loss: 24.8607\n",
      "Epoch 19/30\n",
      "1076/1076 - 5s - 4ms/step - accuracy: 0.0439 - loss: 24.8607\n",
      "Epoch 20/30\n",
      "1076/1076 - 5s - 5ms/step - accuracy: 0.0439 - loss: 24.8607\n",
      "Epoch 21/30\n",
      "1076/1076 - 5s - 4ms/step - accuracy: 0.0439 - loss: 24.8607\n",
      "Epoch 22/30\n",
      "1076/1076 - 5s - 4ms/step - accuracy: 0.0439 - loss: 24.8607\n",
      "Epoch 23/30\n",
      "1076/1076 - 5s - 5ms/step - accuracy: 0.0439 - loss: 24.8607\n",
      "Epoch 24/30\n",
      "1076/1076 - 6s - 6ms/step - accuracy: 0.0439 - loss: 24.8607\n",
      "Epoch 25/30\n",
      "1076/1076 - 7s - 6ms/step - accuracy: 0.0439 - loss: 24.8607\n",
      "Epoch 26/30\n",
      "1076/1076 - 6s - 6ms/step - accuracy: 0.0439 - loss: 24.8607\n",
      "Epoch 27/30\n",
      "1076/1076 - 7s - 6ms/step - accuracy: 0.0439 - loss: 24.8607\n",
      "Epoch 28/30\n",
      "1076/1076 - 7s - 6ms/step - accuracy: 0.0439 - loss: 24.8607\n",
      "Epoch 29/30\n",
      "1076/1076 - 6s - 6ms/step - accuracy: 0.0439 - loss: 24.8607\n",
      "Epoch 30/30\n",
      "1076/1076 - 6s - 6ms/step - accuracy: 0.0439 - loss: 24.8607\n"
     ]
    },
    {
     "data": {
      "text/plain": [
       "<keras.src.callbacks.history.History at 0x2c4041b06b0>"
      ]
     },
     "execution_count": 73,
     "metadata": {},
     "output_type": "execute_result"
    }
   ],
   "source": [
    "model.fit(X_train, y_train, batch_size=batch_size, epochs=epochs, verbose=2)"
   ]
  },
  {
   "cell_type": "code",
   "execution_count": 74,
   "id": "d8d68b6c-00b1-49a2-845a-985e19509ad6",
   "metadata": {},
   "outputs": [],
   "source": [
    "def confusion_matrix(y_true, y_pred):\n",
    "    y_true = pd.Series([stations[y] for y in np.argmax(y_true, axis=1)])\n",
    "    y_pred = pd.Series([stations[y] for y in np.argmax(y_pred, axis=1)])\n",
    "\n",
    "    return pd.crosstab(y_true, y_pred, rownames=['True'], colnames=['Pred'])"
   ]
  },
  {
   "cell_type": "code",
   "execution_count": 77,
   "id": "2a3db488-a936-4cea-be90-4e038af3b554",
   "metadata": {},
   "outputs": [],
   "source": [
    "epochs = 30\n",
    "batch_size = 16\n",
    "n_hidden = 64\n",
    "\n",
    "timesteps = len(X_train[0])\n",
    "input_dim = len(X_train[0][0])\n",
    "n_classes = len(y_train[0])\n",
    "\n",
    "model = Sequential()\n",
    "model.add(Conv1D(n_hidden, kernel_size=2, activation='relu', input_shape=(timesteps, input_dim)))\n",
    "model.add(Dense(16, activation='relu'))\n",
    "model.add(MaxPooling1D())\n",
    "model.add(Flatten())\n",
    "model.add(Dense(n_classes, activation='sigmoid'))"
   ]
  },
  {
   "cell_type": "code",
   "execution_count": 79,
   "id": "fa4bdd11-edc6-40bf-a6b6-2b33e21d9b93",
   "metadata": {},
   "outputs": [
    {
     "data": {
      "text/html": [
       "<pre style=\"white-space:pre;overflow-x:auto;line-height:normal;font-family:Menlo,'DejaVu Sans Mono',consolas,'Courier New',monospace\"><span style=\"font-weight: bold\">Model: \"sequential_4\"</span>\n",
       "</pre>\n"
      ],
      "text/plain": [
       "\u001b[1mModel: \"sequential_4\"\u001b[0m\n"
      ]
     },
     "metadata": {},
     "output_type": "display_data"
    },
    {
     "data": {
      "text/html": [
       "<pre style=\"white-space:pre;overflow-x:auto;line-height:normal;font-family:Menlo,'DejaVu Sans Mono',consolas,'Courier New',monospace\">┏━━━━━━━━━━━━━━━━━━━━━━━━━━━━━━━━━┳━━━━━━━━━━━━━━━━━━━━━━━━┳━━━━━━━━━━━━━━━┓\n",
       "┃<span style=\"font-weight: bold\"> Layer (type)                    </span>┃<span style=\"font-weight: bold\"> Output Shape           </span>┃<span style=\"font-weight: bold\">       Param # </span>┃\n",
       "┡━━━━━━━━━━━━━━━━━━━━━━━━━━━━━━━━━╇━━━━━━━━━━━━━━━━━━━━━━━━╇━━━━━━━━━━━━━━━┩\n",
       "│ conv1d_4 (<span style=\"color: #0087ff; text-decoration-color: #0087ff\">Conv1D</span>)               │ (<span style=\"color: #00d7ff; text-decoration-color: #00d7ff\">None</span>, <span style=\"color: #00af00; text-decoration-color: #00af00\">14</span>, <span style=\"color: #00af00; text-decoration-color: #00af00\">64</span>)         │         <span style=\"color: #00af00; text-decoration-color: #00af00\">1,216</span> │\n",
       "├─────────────────────────────────┼────────────────────────┼───────────────┤\n",
       "│ dense_7 (<span style=\"color: #0087ff; text-decoration-color: #0087ff\">Dense</span>)                 │ (<span style=\"color: #00d7ff; text-decoration-color: #00d7ff\">None</span>, <span style=\"color: #00af00; text-decoration-color: #00af00\">14</span>, <span style=\"color: #00af00; text-decoration-color: #00af00\">16</span>)         │         <span style=\"color: #00af00; text-decoration-color: #00af00\">1,040</span> │\n",
       "├─────────────────────────────────┼────────────────────────┼───────────────┤\n",
       "│ max_pooling1d_4 (<span style=\"color: #0087ff; text-decoration-color: #0087ff\">MaxPooling1D</span>)  │ (<span style=\"color: #00d7ff; text-decoration-color: #00d7ff\">None</span>, <span style=\"color: #00af00; text-decoration-color: #00af00\">7</span>, <span style=\"color: #00af00; text-decoration-color: #00af00\">16</span>)          │             <span style=\"color: #00af00; text-decoration-color: #00af00\">0</span> │\n",
       "├─────────────────────────────────┼────────────────────────┼───────────────┤\n",
       "│ flatten_3 (<span style=\"color: #0087ff; text-decoration-color: #0087ff\">Flatten</span>)             │ (<span style=\"color: #00d7ff; text-decoration-color: #00d7ff\">None</span>, <span style=\"color: #00af00; text-decoration-color: #00af00\">112</span>)            │             <span style=\"color: #00af00; text-decoration-color: #00af00\">0</span> │\n",
       "├─────────────────────────────────┼────────────────────────┼───────────────┤\n",
       "│ dense_8 (<span style=\"color: #0087ff; text-decoration-color: #0087ff\">Dense</span>)                 │ (<span style=\"color: #00d7ff; text-decoration-color: #00d7ff\">None</span>, <span style=\"color: #00af00; text-decoration-color: #00af00\">15</span>)             │         <span style=\"color: #00af00; text-decoration-color: #00af00\">1,695</span> │\n",
       "└─────────────────────────────────┴────────────────────────┴───────────────┘\n",
       "</pre>\n"
      ],
      "text/plain": [
       "┏━━━━━━━━━━━━━━━━━━━━━━━━━━━━━━━━━┳━━━━━━━━━━━━━━━━━━━━━━━━┳━━━━━━━━━━━━━━━┓\n",
       "┃\u001b[1m \u001b[0m\u001b[1mLayer (type)                   \u001b[0m\u001b[1m \u001b[0m┃\u001b[1m \u001b[0m\u001b[1mOutput Shape          \u001b[0m\u001b[1m \u001b[0m┃\u001b[1m \u001b[0m\u001b[1m      Param #\u001b[0m\u001b[1m \u001b[0m┃\n",
       "┡━━━━━━━━━━━━━━━━━━━━━━━━━━━━━━━━━╇━━━━━━━━━━━━━━━━━━━━━━━━╇━━━━━━━━━━━━━━━┩\n",
       "│ conv1d_4 (\u001b[38;5;33mConv1D\u001b[0m)               │ (\u001b[38;5;45mNone\u001b[0m, \u001b[38;5;34m14\u001b[0m, \u001b[38;5;34m64\u001b[0m)         │         \u001b[38;5;34m1,216\u001b[0m │\n",
       "├─────────────────────────────────┼────────────────────────┼───────────────┤\n",
       "│ dense_7 (\u001b[38;5;33mDense\u001b[0m)                 │ (\u001b[38;5;45mNone\u001b[0m, \u001b[38;5;34m14\u001b[0m, \u001b[38;5;34m16\u001b[0m)         │         \u001b[38;5;34m1,040\u001b[0m │\n",
       "├─────────────────────────────────┼────────────────────────┼───────────────┤\n",
       "│ max_pooling1d_4 (\u001b[38;5;33mMaxPooling1D\u001b[0m)  │ (\u001b[38;5;45mNone\u001b[0m, \u001b[38;5;34m7\u001b[0m, \u001b[38;5;34m16\u001b[0m)          │             \u001b[38;5;34m0\u001b[0m │\n",
       "├─────────────────────────────────┼────────────────────────┼───────────────┤\n",
       "│ flatten_3 (\u001b[38;5;33mFlatten\u001b[0m)             │ (\u001b[38;5;45mNone\u001b[0m, \u001b[38;5;34m112\u001b[0m)            │             \u001b[38;5;34m0\u001b[0m │\n",
       "├─────────────────────────────────┼────────────────────────┼───────────────┤\n",
       "│ dense_8 (\u001b[38;5;33mDense\u001b[0m)                 │ (\u001b[38;5;45mNone\u001b[0m, \u001b[38;5;34m15\u001b[0m)             │         \u001b[38;5;34m1,695\u001b[0m │\n",
       "└─────────────────────────────────┴────────────────────────┴───────────────┘\n"
      ]
     },
     "metadata": {},
     "output_type": "display_data"
    },
    {
     "data": {
      "text/html": [
       "<pre style=\"white-space:pre;overflow-x:auto;line-height:normal;font-family:Menlo,'DejaVu Sans Mono',consolas,'Courier New',monospace\"><span style=\"font-weight: bold\"> Total params: </span><span style=\"color: #00af00; text-decoration-color: #00af00\">3,951</span> (15.43 KB)\n",
       "</pre>\n"
      ],
      "text/plain": [
       "\u001b[1m Total params: \u001b[0m\u001b[38;5;34m3,951\u001b[0m (15.43 KB)\n"
      ]
     },
     "metadata": {},
     "output_type": "display_data"
    },
    {
     "data": {
      "text/html": [
       "<pre style=\"white-space:pre;overflow-x:auto;line-height:normal;font-family:Menlo,'DejaVu Sans Mono',consolas,'Courier New',monospace\"><span style=\"font-weight: bold\"> Trainable params: </span><span style=\"color: #00af00; text-decoration-color: #00af00\">3,951</span> (15.43 KB)\n",
       "</pre>\n"
      ],
      "text/plain": [
       "\u001b[1m Trainable params: \u001b[0m\u001b[38;5;34m3,951\u001b[0m (15.43 KB)\n"
      ]
     },
     "metadata": {},
     "output_type": "display_data"
    },
    {
     "data": {
      "text/html": [
       "<pre style=\"white-space:pre;overflow-x:auto;line-height:normal;font-family:Menlo,'DejaVu Sans Mono',consolas,'Courier New',monospace\"><span style=\"font-weight: bold\"> Non-trainable params: </span><span style=\"color: #00af00; text-decoration-color: #00af00\">0</span> (0.00 B)\n",
       "</pre>\n"
      ],
      "text/plain": [
       "\u001b[1m Non-trainable params: \u001b[0m\u001b[38;5;34m0\u001b[0m (0.00 B)\n"
      ]
     },
     "metadata": {},
     "output_type": "display_data"
    }
   ],
   "source": [
    "model.summary()"
   ]
  },
  {
   "cell_type": "code",
   "execution_count": 81,
   "id": "8bb6ccb8-c1fc-4524-9c3e-2c1717df2f2e",
   "metadata": {},
   "outputs": [],
   "source": [
    "model.compile(loss='categorical_crossentropy', optimizer='adam', metrics=['accuracy'])"
   ]
  },
  {
   "cell_type": "code",
   "execution_count": 83,
   "id": "5af136e5-c8cb-4370-bc92-1a29de7f207a",
   "metadata": {},
   "outputs": [
    {
     "name": "stdout",
     "output_type": "stream",
     "text": [
      "Epoch 1/30\n",
      "1076/1076 - 8s - 8ms/step - accuracy: 0.6147 - loss: 8033.1899\n",
      "Epoch 2/30\n",
      "1076/1076 - 6s - 6ms/step - accuracy: 0.6436 - loss: 85884.2109\n",
      "Epoch 3/30\n",
      "1076/1076 - 6s - 6ms/step - accuracy: 0.6439 - loss: 287108.0312\n",
      "Epoch 4/30\n",
      "1076/1076 - 6s - 6ms/step - accuracy: 0.6439 - loss: 631367.0000\n",
      "Epoch 5/30\n",
      "1076/1076 - 6s - 6ms/step - accuracy: 0.6440 - loss: 1129537.7500\n",
      "Epoch 6/30\n",
      "1076/1076 - 6s - 5ms/step - accuracy: 0.6440 - loss: 1786139.5000\n",
      "Epoch 7/30\n",
      "1076/1076 - 6s - 6ms/step - accuracy: 0.6440 - loss: 2634881.2500\n",
      "Epoch 8/30\n",
      "1076/1076 - 6s - 6ms/step - accuracy: 0.6440 - loss: 3699887.0000\n",
      "Epoch 9/30\n",
      "1076/1076 - 6s - 6ms/step - accuracy: 0.6440 - loss: 4959280.5000\n",
      "Epoch 10/30\n",
      "1076/1076 - 6s - 6ms/step - accuracy: 0.6440 - loss: 6406236.5000\n",
      "Epoch 11/30\n",
      "1076/1076 - 6s - 5ms/step - accuracy: 0.6440 - loss: 8119106.0000\n",
      "Epoch 12/30\n",
      "1076/1076 - 6s - 6ms/step - accuracy: 0.6440 - loss: 10007844.0000\n",
      "Epoch 13/30\n",
      "1076/1076 - 6s - 6ms/step - accuracy: 0.6440 - loss: 12206825.0000\n",
      "Epoch 14/30\n",
      "1076/1076 - 5s - 5ms/step - accuracy: 0.6439 - loss: 14746730.0000\n",
      "Epoch 15/30\n",
      "1076/1076 - 8s - 7ms/step - accuracy: 0.6440 - loss: 17351704.0000\n",
      "Epoch 16/30\n",
      "1076/1076 - 6s - 6ms/step - accuracy: 0.6440 - loss: 20543866.0000\n",
      "Epoch 17/30\n",
      "1076/1076 - 6s - 6ms/step - accuracy: 0.6440 - loss: 23967838.0000\n",
      "Epoch 18/30\n",
      "1076/1076 - 6s - 6ms/step - accuracy: 0.6440 - loss: 27675324.0000\n",
      "Epoch 19/30\n",
      "1076/1076 - 6s - 6ms/step - accuracy: 0.6440 - loss: 31912418.0000\n",
      "Epoch 20/30\n",
      "1076/1076 - 6s - 6ms/step - accuracy: 0.6440 - loss: 36447528.0000\n",
      "Epoch 21/30\n",
      "1076/1076 - 6s - 5ms/step - accuracy: 0.6440 - loss: 41453696.0000\n",
      "Epoch 22/30\n",
      "1076/1076 - 6s - 5ms/step - accuracy: 0.6440 - loss: 46946452.0000\n",
      "Epoch 23/30\n",
      "1076/1076 - 6s - 6ms/step - accuracy: 0.6440 - loss: 52533804.0000\n",
      "Epoch 24/30\n",
      "1076/1076 - 6s - 6ms/step - accuracy: 0.6440 - loss: 58864304.0000\n",
      "Epoch 25/30\n",
      "1076/1076 - 6s - 6ms/step - accuracy: 0.6439 - loss: 65327084.0000\n",
      "Epoch 26/30\n",
      "1076/1076 - 7s - 6ms/step - accuracy: 0.6440 - loss: 72569400.0000\n",
      "Epoch 27/30\n",
      "1076/1076 - 6s - 6ms/step - accuracy: 0.6440 - loss: 79969048.0000\n",
      "Epoch 28/30\n",
      "1076/1076 - 7s - 6ms/step - accuracy: 0.6440 - loss: 88144384.0000\n",
      "Epoch 29/30\n",
      "1076/1076 - 6s - 6ms/step - accuracy: 0.6440 - loss: 96272888.0000\n",
      "Epoch 30/30\n",
      "1076/1076 - 6s - 5ms/step - accuracy: 0.6440 - loss: 105778296.0000\n"
     ]
    },
    {
     "data": {
      "text/plain": [
       "<keras.src.callbacks.history.History at 0x2c403e09ca0>"
      ]
     },
     "execution_count": 83,
     "metadata": {},
     "output_type": "execute_result"
    }
   ],
   "source": [
    "model.fit(X_train, y_train, batch_size=batch_size, epochs=epochs, verbose=2)"
   ]
  },
  {
   "cell_type": "code",
   "execution_count": 84,
   "id": "a653d8a5-bf50-4001-9176-ce95efb91583",
   "metadata": {},
   "outputs": [],
   "source": [
    "def confusion_matrix(y_true, y_pred):\n",
    "    y_true = pd.Series([stations[y] for y in np.argmax(y_true, axis=1)])\n",
    "    y_pred = pd.Series([stations[y] for y in np.argmax(y_pred, axis=1)])\n",
    "\n",
    "    return pd.crosstab(y_true, y_pred, rownames=['True'], colnames=['Pred'])"
   ]
  },
  {
   "cell_type": "code",
   "execution_count": 87,
   "id": "d282fa2d-39d1-4c16-bb25-421000eeced1",
   "metadata": {},
   "outputs": [
    {
     "name": "stdout",
     "output_type": "stream",
     "text": [
      "\u001b[1m180/180\u001b[0m \u001b[32m━━━━━━━━━━━━━━━━━━━━\u001b[0m\u001b[37m\u001b[0m \u001b[1m1s\u001b[0m 4ms/step\n",
      "Pred        BASEL\n",
      "True             \n",
      "BASEL        3682\n",
      "BELGRADE     1092\n",
      "BUDAPEST      214\n",
      "DEBILT         82\n",
      "DUSSELDORF     29\n",
      "HEATHROW       82\n",
      "KASSEL         11\n",
      "LJUBLJANA      61\n",
      "MAASTRICHT      9\n",
      "MADRID        458\n",
      "MUNCHENB        8\n",
      "OSLO            5\n",
      "STOCKHOLM       4\n",
      "VALENTIA        1\n"
     ]
    }
   ],
   "source": [
    "# Evaluate\n",
    "print(confusion_matrix(y_test, model.predict(X_test)))"
   ]
  },
  {
   "cell_type": "code",
   "execution_count": null,
   "id": "ac228844-ce27-417c-9e08-e946ade7c04d",
   "metadata": {},
   "outputs": [],
   "source": []
  }
 ],
 "metadata": {
  "kernelspec": {
   "display_name": "Python [conda env:base] *",
   "language": "python",
   "name": "conda-base-py"
  },
  "language_info": {
   "codemirror_mode": {
    "name": "ipython",
    "version": 3
   },
   "file_extension": ".py",
   "mimetype": "text/x-python",
   "name": "python",
   "nbconvert_exporter": "python",
   "pygments_lexer": "ipython3",
   "version": "3.12.7"
  }
 },
 "nbformat": 4,
 "nbformat_minor": 5
}
